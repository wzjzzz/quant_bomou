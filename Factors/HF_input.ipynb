{
 "cells": [
  {
   "cell_type": "markdown",
   "id": "103063b9",
   "metadata": {},
   "source": [
    "# 高频因子"
   ]
  },
  {
   "cell_type": "markdown",
   "id": "aa71929c",
   "metadata": {},
   "source": [
    "模型研报来自于海通证券：《选股因子系列研究（七十六）——基于深度学习的高频因子挖掘》 <br>\n",
    "&emsp; “本文基于分钟 K 线数据、盘口委托挂单数据、逐笔成交数据构建得到了 164 个 30” <br><br>\n",
    "其中高频因子构建的研报汇总在《选股因子系列研究（六十四）——基于直观逻辑和机器学习的高频数据低频化应用》表1 <br>\n",
    "分钟频率的指标序列，并将其作为模型的输入。” <br><br>\n",
    "高频因子可以分为收益率分布、成交量分布，量价复合、资金流和日内动机。 cr - 《高频量价因子在股票与期货中的表现》 <br>\n",
    "以下整理的只是来自研报的内容，部分公式可以对其他数据互相套用。比如收益率和成交量"
   ]
  },
  {
   "cell_type": "markdown",
   "id": "ba2e1395",
   "metadata": {},
   "source": [
    "## 分钟级别数据"
   ]
  },
  {
   "cell_type": "markdown",
   "id": "c534484b",
   "metadata": {},
   "source": [
    "注：本节选取的高频因子都是基于分钟级别的数据(除非有注明)。来自的研报(海通证券)如下: <br>\n",
    "&emsp; 1、 《选股因子系列研究（十九）——高频因子之股票收益分布特征》 <br>\n",
    "&emsp; 2、 《选股因子系列研究（二十五）——高频因子之已实现波动分解》 <br>\n",
    "&emsp; 3、 《高频量价因子在股票与期货中的表现》 <br>\n",
    "&emsp; 4、 《选股因子系列研究（四十六）——日内分时成交中的玄机》<br>"
   ]
  },
  {
   "cell_type": "markdown",
   "id": "22c0e674",
   "metadata": {},
   "source": [
    "1、  <br>\n",
    "&emsp;&emsp; (1) 高频收益方差：（其中$r_{ij}$为股票i在第j分钟的收益）\n",
    "                $$\\operatorname{RVar}_i=\\sum_{j=1}^N r_{i j}^2$$\n",
    "&emsp;&emsp; (2) 高频收益偏度:\n",
    "                $$R_{\\operatorname{Rexw}_i}=\\frac{\\sqrt{N} \\sum_{j=1}^N r_{i j}^2}{\\operatorname{RVar}_i^{3 / 2}}$$\n",
    "&emsp;&emsp; (3) 高频收益峰度：\n",
    "                $$\\operatorname{RKurt}_i=\\frac{N \\sum_{j=1}^N r_{i j}^4}{R V a r_i^2}$$"
   ]
  },
  {
   "cell_type": "markdown",
   "id": "ea356421",
   "metadata": {},
   "source": [
    "2、  <br>\n",
    "&emsp;按“系统波动+特质波动”的拆分，通过Fama-French回归将股票收益分解为系统收益和特质收益。 <br><br>\n",
    "            $$r_i=\\alpha+\\beta_{M K T} M K T+\\beta_{S M B} S M B+\\beta_{H M L} H M L+\\varepsilon_i$$\n",
    "<br>&emsp;其中，$r_{i}$为股票收益，MKT为市场收益，SMB为市场溢价，HML为估值溢价，回归残差为股票特质收益。对高频的横截面作回归即可。<br><br>\n",
    "&emsp;&emsp; (4) 高频波动：（和(1)的高频收益方差一样，其中$r_{i}^{t}$是股票i在t时刻的收益）\n",
    "                $$\\text { 高频波动 }=\\left(\\sum_t\\left(r_i^t\\right)^2\\right)^{\\frac{1}{2}}$$\n",
    "&emsp;&emsp; (5) 高频特质波动：\n",
    "                $$\\text { 高频特质波动 }=\\left(\\sum_t\\left(\\varepsilon_i^t\\right)^2\\right)^{\\frac{1}{2}}$$\n",
    "&emsp;&emsp; (6) 高频系统波动：\n",
    "                $$\\text { 高频系统波动 }=\\left(\\sum_t\\left(r_i^t-\\varepsilon_i^t\\right)^2\\right)^{\\frac{1}{2}}$$\n",
    "&emsp;&emsp; (7) 高频特异度：\n",
    "                $$\\text { 高频特异度 }=\\frac{\\sum_t\\left(\\varepsilon_i^t\\right)^2}{\\sum_t\\left(r_i^t\\right)^2}$$\n",
    "&emsp;&emsp; (8) 高频上行波动：\n",
    "                $$\\text { 高频上行波动 }=\\left(\\sum_t\\left(r_i^t I_{\\left\\{r_i^t>0\\right\\}}\\right)^2\\right)^{\\frac{1}{2}}$$\n",
    "&emsp;&emsp; (9) 高频下行波动：   \n",
    "                $$\\text { 高频下行波动 }=\\left(\\sum_t\\left(r_i^t I_{\\left\\{r_i^t<0\\right\\}}\\right)^2\\right)^{\\frac{1}{2}}$$\n",
    "&emsp;&emsp; (10) 高频上行波动占比：\n",
    "                $$\\text { 高频上行波动占比 }=\\frac{\\sum_t\\left(r_i^t I_{\\left\\{r_i^t>0\\right\\}}\\right)^2}{\\sum_t\\left(r_i^t\\right)^2}$$\n",
    "&emsp;&emsp; (11) 高频下行波动占比:\n",
    "                $$\\text { 高频下行波动占比 }=\\frac{\\sum_t\\left(r_i^t I_{\\left\\{r_i^t<0\\right\\}}\\right)^2}{\\sum_t\\left(r_i^t\\right)^2}$$"
   ]
  },
  {
   "cell_type": "markdown",
   "id": "a7a6c713",
   "metadata": {},
   "source": [
    "3、 <br>\n",
    "&emsp;&emsp; (12) 日内成交量占比：(半小时划分区间，一天八个区间)：\n",
    "                $$\\text { VolumeRatio }_t=\\frac{\\text { Volume }_t}{\\text { Volume }_{\\text {total }}}$$\n",
    "&emsp;&emsp; (13) 高频量价相关性：(其中$P_{t}$为价格序列，$V_{t}$为成交量序列，分钟级别)\n",
    "                $$\\rho=\\operatorname{corr}\\left(P_t, V_t\\right)$$\n",
    "&emsp;&emsp; (14) 高频仓价相关性：(期货，价格和持仓量之间的相关性)\n",
    "                $$\\rho=\\operatorname{corr}\\left(P_t, V_t\\right)$$\n",
    "&emsp;&emsp; (15) 资金流因子：<br>\n",
    "&emsp;&emsp; &emsp;&emsp; <1>\n",
    "                $$\\text { flowInRatio } \\left.=\\sum_i \\sum_j \\text { Volume }_{i j} \\cdot \\operatorname{Close}_{i j} \\cdot \\frac{\\text { Close }_{i j}-\\operatorname{Close}_{i j-1}}{\\mid \\text { Close }_{i j}-\\operatorname{Close}_{i j-1} \\mid}\\right) / \\sum_i \\text { Amount }_{i, \\text { total }}$$\n",
    "&emsp;&emsp;&emsp;&emsp; $Amount$为成交额             \n",
    "&emsp;&emsp; &emsp;&emsp; <2>\n",
    "                $$\\text { flowInRatio }=\\sum_i \\sum_j\\left|O I_{i j}-O I_{i j-1}\\right| \\cdot \\text { Close }_{i j} \\cdot \\frac{\\text { Close }_{i j}-\\text { Close }_{i j-1}}{\\mid \\operatorname{Close}_{i j}-\\text { Close }_{i j-1} \\mid} /\\left(O I_{t-R} \\cdot \\text { Settle }_{t-R}\\right)$$\n",
    "&emsp;&emsp;&emsp;&emsp; 其中，$OI_{ij}$表示第i日第j分钟的持仓量，$Settle_{t-R}$为结算价          \n",
    "&emsp;&emsp; (16) 趋势强度:\n",
    "                $$\\text { trendStrength }=\\frac{P_n-P_1}{\\sum_{i=2}^n \\operatorname{abs}\\left(P_i-P_{i-1}\\right)_t}$$\n",
    "&emsp;&emsp;&emsp;&emsp;其中$P_{t}$为价格序列               \n",
    "&emsp;&emsp; (17) (改进)反转因子*：（反转指将隔夜和开盘后半小时的涨幅剔除，分钟级不需要剔除，其中$w_{i}$为时刻i的权重）\n",
    "                $$\\operatorname{Rev}_{\\text {vol }}=\\sum_{i=1}^{\\text {period }} w_i \\log \\frac{\\text { Close }_{t-i+1}}{\\text { Close }_{t-i}}, w_i \\propto \\text { volume }_i$$"
   ]
  },
  {
   "cell_type": "markdown",
   "id": "9b725660",
   "metadata": {},
   "source": [
    "4、 <br>\n",
    "&emsp;&emsp; (18) 平均单笔成交金额：($AMT_{ij}$是成交金额序列，$TrdNum_{ij}$是成交笔数序列)\n",
    "                $$\\operatorname{AmtPerTrd}_i=\\sum_{j=1}^N \\operatorname{Amt}_{i j} / \\sum_{j=1}^N \\operatorname{Tr} d N u m_{i j}$$\n",
    "&emsp;&emsp; (19) 平均单笔流入金额：\n",
    "                $$\\text { AmtPerTrd_inFlow} _i=\\frac{\\sum_{j=1}^N Amt_{i j} \\cdot I_{r_{i j}}>0}{\\sum_{j=1}^N \\operatorname{TrdNum_{ij}\\cdot I_{r_{ij}}>0}}$$\n",
    "&emsp;&emsp; (20) 平均单笔流出金额：\n",
    "                $$\\text { AmtPerTrd_outFlow }{ }_i=\\frac{\\sum_{j=1}^N Amt_{i j} \\cdot I_{r_{ij}}<0}{\\sum_{j=1}^N \\operatorname{TrdNum_{ij}\\cdot I_{r_{ij}}<0}}$$\n",
    "&emsp;&emsp; (21) 平均单笔流入金额占比：\n",
    "                $$\\text { ApT_inFlow_ratio }_i=\\frac{\\text { AmtPerTrd_inFlow }_i}{\\text { AmtPerTrd }_i}$$\n",
    "&emsp;&emsp; (22) 平均单笔流出金额占比：\n",
    "                $$\\text { ApT_outFlow_ratio }_{i}=\\frac{\\text { AmtPerTrd_outFlow }_i}{\\text { AmtPerTrd }_i}$$\n",
    "&emsp;&emsp; (23) 平均单笔流入流出金额之比：\n",
    "                $$\\text { ApT_netInFlow_ratio }_i=\\frac{\\text { ApT_inFlow_ratio }_i}{\\text { Apt_outFlow_ratio }_i}$$\n",
    "&emsp;&emsp; (24) 大单资金净流入金额：(将分钟K线按$\\operatorname{AmtPerTrd}_{ij}$从高到低排序，选择前N(N=10\\%, 20\\%, 30\\%)的K线)   \n",
    "                $$\\text { Amt_netInFlow_bigOrder }{ }_i=\\sum_{j=1}^N A m t_{i j} \\cdot I_{\\left\\{r_{i j}>0, j \\epsilon I d x S e t\\right\\}}-\\sum_{j=1}^N A m t_{i j} \\cdot I_{\\left\\{r_{i j}<0, j \\epsilon I d x S e t\\right\\}}$$\n",
    "                \n",
    "&emsp;&emsp; (25) 大单资金净流入率：\n",
    "                $$\\text { Amt_netInFlow_bigOrder_ratio }{ }_i=\\text { Amt_netInFlow_bigOrder } / \\sum_{j=1}^N \\text { Amt }_{i j}$$\n",
    "&emsp;&emsp; (26) 大单驱动涨幅：\n",
    "                $$\\text { Mom_bigOrder }_i=\\operatorname{prod}\\left(1+r_{i j} \\cdot I_{\\{j \\in I d x S e t}\\right)$$"
   ]
  },
  {
   "cell_type": "markdown",
   "id": "2fe4deea",
   "metadata": {},
   "source": [
    " "
   ]
  },
  {
   "cell_type": "markdown",
   "id": "e8e54c01",
   "metadata": {},
   "source": [
    "5、 <br>\n",
    "&emsp;&emsp; (27) <br>\n",
    "&emsp;&emsp; &emsp;聪明程度：($R_{t}$为第$t$分钟的涨跌幅，$V_{t}$为第$t$分钟的成交量)\n",
    "                $$\\mathrm{S}_{\\mathrm{t}}=\\left|R_t\\right| / \\sqrt{V_t}$$\n",
    "  \n",
    "&emsp;&emsp; &emsp; 聪明钱的情绪因子：（按聪明程度排，将成交量累计前20%设置为聪明钱；VWAP是成交量加权平均）\n",
    "                $$Q=VWAP_{smart}/ V W A P_{all}$$\n",
    "                \n"
   ]
  },
  {
   "cell_type": "code",
   "execution_count": null,
   "id": "4bf9502a",
   "metadata": {},
   "outputs": [],
   "source": []
  },
  {
   "cell_type": "code",
   "execution_count": null,
   "id": "f35d1fc7",
   "metadata": {},
   "outputs": [],
   "source": []
  },
  {
   "cell_type": "code",
   "execution_count": null,
   "id": "cb62b669",
   "metadata": {},
   "outputs": [],
   "source": []
  },
  {
   "cell_type": "markdown",
   "id": "b78255ca",
   "metadata": {},
   "source": [
    " "
   ]
  },
  {
   "cell_type": "markdown",
   "id": "2823b87d",
   "metadata": {},
   "source": [
    "## Tick级盘口委托"
   ]
  },
  {
   "cell_type": "markdown",
   "id": "ec4b5e56",
   "metadata": {},
   "source": [
    "也可以理解为分钟级。3s一次。<br>\n",
    "注：来自的研报(海通证券)如下: <br>\n",
    "&emsp; 1、 《选股因子系列研究（四十七）——捕捉投资者的交易意愿》<br>\n",
    "&emsp; 2、 《选股因子系列研究（四十九）——当下跌遇到托底 <br>"
   ]
  },
  {
   "cell_type": "markdown",
   "id": "c9009fb2",
   "metadata": {},
   "source": [
    "1、  <br>若假定委买量的增加代表了\n",
    "投资者买入意愿的增强，而委卖量的增加代表了投资者卖出意愿的增强，那么可以认为\n",
    "净委买变化量体现了投资者买入意愿的变化。考虑到委托挂单的变化与股票本身股本有\n",
    "一定的关联，因此本文将净委买变化量除以股票流通股本，得到净委买变化率。 <br><br>\n",
    "&emsp;&emsp; (1) 净委买变化率：（其中，$\\text { 净委买变化率 }_{k, t}^T$为T日t到t+1时刻间，使用前K档数据计算得到的）\n",
    "                $$\\text { 净委买变化率 }_{k, t}^T=\\frac{\\text { 净委买变化量 }_{k, t}^T}{\\text { 流通股本 }_T}$$\n",
    "&emsp;&emsp; (2）净委买变化量：\n",
    "                $$\\text { 净委买变化量 }{ }_{k, t}^T=\\sum_{j=1}^k \\text { 委买变化量 }_{j, t}^T-\\sum_{j=1}^k \\text { 委卖变化量 }_{j, t}^T$$\n",
    "&emsp;&emsp; (3）平均净委买变化率：\n",
    "                $$\\text { 平均净委买变化率 }{ }_k^T=\\operatorname{mean}\\left(\\text { 净委买变化率 }{ }_{k, t}^T\\right. \\text { ) }$$\n",
    "&emsp;&emsp; (4）净委买变化率波动率：\n",
    "                $$\\text { 净委买变化率波动率 }{ }_k^T=s t d\\left(\\text { 净委头变化率 }{ }_{k, t}^T\\right)$$\n",
    "&emsp;&emsp; (5）平均净委买变化率偏度：\n",
    "                $$\\text { 平均净委买变化率偏度 }{ }_k^T=\\text { skewness }\\left(\\text { 净委买变化率 }{ }_{k, t}^T\\right)$$"
   ]
  },
  {
   "cell_type": "markdown",
   "id": "a70b7755",
   "metadata": {},
   "source": [
    "2、<br>\n",
    "&emsp;&emsp; (6) 委托成交相关性:($r_{T, t}^i$为股票i在T日的高频收益序列，$n e t B i d_{T, t}^i$为股票i在T日使用前1档委托挂单数据计算的净委买变化率序列 )\n",
    "                $$\\text { 委托成交相关性 }{ }_T^i=\\operatorname{corr}\\left(r_{T, t}^i, n e t B i d_{T, t}^i\\right)$$\n",
    "  "
   ]
  },
  {
   "cell_type": "markdown",
   "id": "eb87c287",
   "metadata": {},
   "source": [
    " "
   ]
  },
  {
   "cell_type": "markdown",
   "id": "1a516446",
   "metadata": {},
   "source": [
    " "
   ]
  },
  {
   "cell_type": "markdown",
   "id": "3f36e4bc",
   "metadata": {},
   "source": [
    "## 逐笔数据"
   ]
  },
  {
   "cell_type": "markdown",
   "id": "2fd55e9a",
   "metadata": {},
   "source": [
    "注：来自的研报(海通证券)如下: <br>\n",
    "&emsp; 1、 《选股因子系列研究（五十六）——买卖单数据中的 Alpha》  <br>\n",
    "&emsp; 2、 《选股因子系列研究（五十七）——基于主动买入行为的选股因子》  <br>\n",
    "&emsp; 3、 《选股因子系列研究（五十八）——知情交易与主买主卖》  <br>"
   ]
  },
  {
   "cell_type": "markdown",
   "id": "8d3f142b",
   "metadata": {},
   "source": [
    "1、<br>\n",
    "本文使用了“N 倍标准差”的方式，在每个交易日对于每个股票单独设定大单筛选阈值。<br>\n",
    "&emsp;&emsp; (1) 大卖成交金额占比：\n",
    "                $$\\text { 大卖成交金额占比 }_{i,t} = \\frac{大卖成交金额_{i,t}}{总成交金额_{i,t}}$$\n",
    "&emsp;&emsp; (2) 大买成交金额占比：\n",
    "                $$\\text { 大买成交金额占比 }_{i,t} = \\frac{大买成交金额_{i,t}}{总成交金额_{i,t}}$$\n",
    "&emsp;&emsp; (3) 大买大卖成交金额占比差值：\n",
    "                $$\\text { 大买大卖成交金额占比差值 }_{i,t} = \\frac{大买成交金额_{i,t}}{总成交金额_{i,t}} - \\frac{大卖成交金额_{i,t}}{总成交金额_{i,t}}$$\n",
    "&emsp;&emsp; (4) 大单成交金额占比：\n",
    "                $$\\text { 大单成交金额占比 }_{i,t} = \\frac{大买成交金额_{i,t}}{总成交金额_{i,t}} + \\frac{大卖成交金额_{i,t}}{总成交金额_{i,t}}$$\n",
    "&emsp;&emsp; (5) 卖单集中度：（$\\text { 卖单成交金额 }{ }_{i, t, k}$为股票i在交易日t的第k个买单的成交金额）\n",
    "                $$\\text { 卖单集中度 }{ }_{i, t}=\\frac{\\sum_{k=1}^{N_{i, t}} \\text { 卖单成交金额 }{ }_{i, t, k}{ }^2}{\\text { 总成交金额 }{ }_{i, t}^2}$$\n",
    "&emsp;&emsp; (6) 买单集中度：\n",
    "                $$\\text { 买单集中度 }{ }_{i, t}=\\frac{\\sum_{k=1}^{N_{i, t}} \\text { 卖单成交金额 }{ }_{i, t, k}{ }^2}{\\text { 总成交金额 }{ }_{i, t}^2}$$\n",
    "&emsp;&emsp; (7) 买卖单集中度差值：\n",
    "                $$\\text { 买卖单集中度差值 }{ }_{i, t}=\\frac{\\sum_{k=1}^{N_{i, t}} \\text { 买单成交金额 }^{2 }_{i, t, k}}{\\text { 总成交金额 }{ }_{i, t}{ }^2}-\\frac{\\sum_{k=1}^{N_{i, t}} \\text { 卖单成交金额 }^{2}_{ i, t, k}}{\\text { 总成交金额 }{ }_{i, t}{ }^2}$$\n",
    "&emsp;&emsp; (8) 买卖单集中度之和：\n",
    "                $$\\text { 买卖单集中度差值 }{ }_{i, t}=\\frac{\\sum_{k=1}^{N_{i, t}} \\text { 买单成交金额 }^{2 }_{i, t, k}}{\\text { 总成交金额 }{ }_{i, t}{ }^2}+\\frac{\\sum_{k=1}^{N_{i, t}} \\text { 卖单成交金额 }^{2}_{ i, t, k}}{\\text { 总成交金额 }{ }_{i, t}{ }^2}$$"
   ]
  },
  {
   "cell_type": "markdown",
   "id": "b9748856",
   "metadata": {},
   "source": [
    "2、<br>\n",
    "本文着眼于逐\n",
    "笔数据中的 BS 标志。该字段对于每笔成交的主动成交方向进行了界定，B 为主动买入，\n",
    "也即，卖出方先挂单，买入方主动触碰卖单并成交。S 为主动卖出，也即，买入方先挂\n",
    "单，卖出方主动触碰买单并成交。<br>\n",
    "&emsp;&emsp; (9) 主买占比：\n",
    "                $$\\text { 主买占比 (占全天成交) }=\\frac{\\text { 主动买入金额 }}{\\text { 当日总成交金额 }}$$         \n",
    "&emsp;&emsp; (10) 主买强度：\n",
    "                $$\\text { 主买占比 (占同时段成交) }=\\frac{\\text { 主动买入金额 }}{\\text { 同时段总成交金额 }}$$\n",
    "&emsp;&emsp; (11) 日内主买强度：\n",
    "                $$\\text { 日内主买强度 }=\\frac{\\operatorname{mean}(\\text { 主动买入金额) }}{\\operatorname{std}(\\text { 主动买入金额 })}$$\n",
    "&emsp;&emsp; (12) 日内净主买强度：\n",
    "                $$\\text { 日内净主买强度 }=\\frac{\\operatorname{mean}(\\text { 主动买入金额-主动卖出金额) }}{\\operatorname{std}(\\text { 主动买入金额-主动卖出金额) }}$$"
   ]
  },
  {
   "cell_type": "markdown",
   "id": "af12001e",
   "metadata": {},
   "source": [
    "3、<br>\n",
    "&emsp;&emsp;基于股票过去一个月的日内分钟收益序列，可构建以下回归模型：\n",
    "\n",
    "$$\n",
    "R_{i, T, j}=\\gamma_0+\\sum_{k=1}^4 \\gamma_{1, k} D_{T, k, j}^{\\text {weekday }}+\\sum_{k=1}^3 \\gamma_{2, k} D_{T, k, j}^{\\text {Period }}+\\gamma_{3,1} R_{i, T, j-1}+\\varepsilon_{i, j}\n",
    "$$\n",
    "&emsp;&emsp;其中 $R_{i, T, j}$为股票i在T日第j分钟的收益， $D_{T, k, j}^{\\text {weekday }}$为虚拟变量，表示周一到周四， $D_{T, k, j}^{\\text {Period }}$为时间虚拟变量，表示开盘后30min，盘中时段以及收盘前30min。得到残差序列，作为预期外收益。在预期外收益为正时，投资者的主动\n",
    "卖出行为可被认为是知情主卖，而预期外收益为负时，投资者的主动买入行为可被认为\n",
    "是知情主买。<br><br>\n",
    "\n",
    "\n",
    "&emsp;&emsp; (13) 知情主卖占比（占全天成交额）： <br>\n",
    "&emsp;&emsp; (14) 知情主卖占比（占同时段成交额）： <br>\n",
    "&emsp;&emsp; (15) 知情主卖占比（占同时段主卖）： <br>\n",
    "&emsp;&emsp; (16) 知情主买占比（占全天成交额）： <br>\n",
    "&emsp;&emsp; (17) 知情主买占比（占同时段成交额）： <br>\n",
    "&emsp;&emsp; (18) 知情主买占比（占同时段主买）： <br>\n",
    "&emsp;&emsp; (19) 知情主买占比（占全天成交额）： <br>\n",
    "&emsp;&emsp; (20) 知情主买占比（占同时段成交额）： <br>\n",
    "&emsp;&emsp; (21) 知情主买占比（占同时段净主买）： <br>"
   ]
  },
  {
   "cell_type": "markdown",
   "id": "2b5b5872",
   "metadata": {},
   "source": [
    " "
   ]
  },
  {
   "cell_type": "markdown",
   "id": "3f6fa208",
   "metadata": {},
   "source": [
    " "
   ]
  }
 ],
 "metadata": {
  "kernelspec": {
   "display_name": "Python 3 (ipykernel)",
   "language": "python",
   "name": "python3"
  },
  "language_info": {
   "codemirror_mode": {
    "name": "ipython",
    "version": 3
   },
   "file_extension": ".py",
   "mimetype": "text/x-python",
   "name": "python",
   "nbconvert_exporter": "python",
   "pygments_lexer": "ipython3",
   "version": "3.9.12"
  }
 },
 "nbformat": 4,
 "nbformat_minor": 5
}
