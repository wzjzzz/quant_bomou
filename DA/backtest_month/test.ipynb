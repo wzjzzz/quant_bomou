{
 "cells": [
  {
   "cell_type": "code",
   "execution_count": 5,
   "metadata": {},
   "outputs": [
    {
     "name": "stdout",
     "output_type": "stream",
     "text": [
      "202301 202302 202303\n"
     ]
    }
   ],
   "source": [
    "import os\n",
    "import sys\n",
    "import json\n",
    "import pandas as pd\n",
    "import datetime\n",
    "import calendar\n",
    "from collections import OrderedDict\n",
    "import types\n",
    "import copy\n",
    "import random\n",
    "\n",
    "date = '20230103'\n",
    "tradingday=datetime.datetime.strptime(date,\"%Y%m%d\")\n",
    "\n",
    "# trading_day = [20221100 + i for i in range(1, 32)]\n",
    "\n",
    "def ShiftInstId(inst_month, shift):\n",
    "    month = int(inst_month[4:])\n",
    "    year = int(inst_month[:4])\n",
    "    month = month + shift\n",
    "    while (month <= 0):\n",
    "        year = year - 1\n",
    "        month = month + 12\n",
    "    while (month > 12):\n",
    "        year = year + 1\n",
    "        month = month - 12\n",
    "    if month < 10:\n",
    "        month = '0' + str(month)\n",
    "    return str(year) + str(month)\n",
    "\n",
    "\n",
    "\n",
    "def get_matd(inst_month,trading_day):\n",
    "    counter=0\n",
    "    for i in range(1,32):\n",
    "        weekday=calendar.weekday(int(inst_month[:4]),int(inst_month[4:]),i)\n",
    "        if weekday==4:\n",
    "            counter+=1\n",
    "            mature_day=int(inst_month[:4])*10000+int(inst_month[4:])*100+i\n",
    "            if counter==3:\n",
    "                break\n",
    "    if mature_day not in trading_day:\n",
    "        #loc=trading_day.index(mature_day)\n",
    "        #loc+=1\n",
    "        #mature_day=trading_day[loc]\n",
    "        mature_day=[day for day in trading_day if day >= mature_day][0]\n",
    "    return str(mature_day)\n",
    "\n",
    "\n",
    "def GetV1Inst():\n",
    "    trading_day=pd.read_csv(\"./trading_days.csv\")\n",
    "    trading_day=list(trading_day.values.reshape(-1))\n",
    "    res = str(tradingday.year) + str(tradingday.month)\n",
    "    res = ShiftInstId(res, 0)\n",
    "    mature_day=get_matd(res,trading_day)\n",
    "    if date >= str(trading_day[trading_day.index(int(mature_day))-1]):\n",
    "        res=ShiftInstId(res, 1) \n",
    "    return res\n",
    "\n",
    "\n",
    "\n",
    "def GetVCInst():\n",
    "    trading_day=pd.read_csv(\"./trading_days.csv\")\n",
    "    trading_day=list(trading_day.values.reshape(-1))\n",
    "    V1=GetV1Inst()\n",
    "    res = str(tradingday.year) + str(tradingday.month)\n",
    "    mature_day=get_matd(res,trading_day)\n",
    "    if date==mature_day:\n",
    "        VC=ShiftInstId(V1, -1)\n",
    "    elif date==str(trading_day[trading_day.index(int(mature_day))-1]):\n",
    "        VC=ShiftInstId(V1, -1)\n",
    "    else:\n",
    "        VC=ShiftInstId(V1, 1)\n",
    "    return VC\n",
    "\n",
    "\n",
    "def GetVSInst():\n",
    "    res = max(GetVCInst(),GetV1Inst())\n",
    "    res = ShiftInstId(res, 1)\n",
    "    while (int(res[4:]) % 3 != 0):\n",
    "        res = ShiftInstId(res, 1)\n",
    "    return res\n",
    "\n",
    "\n",
    "V1, VC, VS = GetV1Inst(), GetVCInst(), GetVSInst()\n"
   ]
  },
  {
   "cell_type": "code",
   "execution_count": null,
   "metadata": {},
   "outputs": [],
   "source": []
  }
 ],
 "metadata": {
  "kernelspec": {
   "display_name": "pytorch",
   "language": "python",
   "name": "python3"
  },
  "language_info": {
   "codemirror_mode": {
    "name": "ipython",
    "version": 3
   },
   "file_extension": ".py",
   "mimetype": "text/x-python",
   "name": "python",
   "nbconvert_exporter": "python",
   "pygments_lexer": "ipython3",
   "version": "3.10.6"
  },
  "orig_nbformat": 4,
  "vscode": {
   "interpreter": {
    "hash": "37548702c2f54b096bb9f9be13c433d20d272ff03f3af3fb72cba1f38f113e47"
   }
  }
 },
 "nbformat": 4,
 "nbformat_minor": 2
}
